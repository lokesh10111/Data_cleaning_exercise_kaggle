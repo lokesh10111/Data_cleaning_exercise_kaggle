{
 "cells": [
  {
   "cell_type": "markdown",
   "id": "28705e0a",
   "metadata": {
    "papermill": {
     "duration": 0.005773,
     "end_time": "2023-05-06T07:29:13.005240",
     "exception": false,
     "start_time": "2023-05-06T07:29:12.999467",
     "status": "completed"
    },
    "tags": []
   },
   "source": [
    "**This notebook is an exercise in the [Data Cleaning](https://www.kaggle.com/learn/data-cleaning) course.  You can reference the tutorial at [this link](https://www.kaggle.com/alexisbcook/character-encodings).**\n",
    "\n",
    "---\n"
   ]
  },
  {
   "cell_type": "markdown",
   "id": "303ce4c4",
   "metadata": {
    "papermill": {
     "duration": 0.005069,
     "end_time": "2023-05-06T07:29:13.015774",
     "exception": false,
     "start_time": "2023-05-06T07:29:13.010705",
     "status": "completed"
    },
    "tags": []
   },
   "source": [
    "In this exercise, you'll apply what you learned in the **Character encodings** tutorial.\n",
    "\n",
    "# Setup\n",
    "\n",
    "The questions below will give you feedback on your work. Run the following cell to set up the feedback system."
   ]
  },
  {
   "cell_type": "code",
   "execution_count": 1,
   "id": "1aa0fbc4",
   "metadata": {
    "execution": {
     "iopub.execute_input": "2023-05-06T07:29:13.028439Z",
     "iopub.status.busy": "2023-05-06T07:29:13.027904Z",
     "iopub.status.idle": "2023-05-06T07:29:13.150989Z",
     "shell.execute_reply": "2023-05-06T07:29:13.149963Z"
    },
    "papermill": {
     "duration": 0.133337,
     "end_time": "2023-05-06T07:29:13.154540",
     "exception": false,
     "start_time": "2023-05-06T07:29:13.021203",
     "status": "completed"
    },
    "tags": []
   },
   "outputs": [
    {
     "name": "stdout",
     "output_type": "stream",
     "text": [
      "Setup Complete\n"
     ]
    }
   ],
   "source": [
    "from learntools.core import binder\n",
    "binder.bind(globals())\n",
    "from learntools.data_cleaning.ex4 import *\n",
    "print(\"Setup Complete\")"
   ]
  },
  {
   "cell_type": "markdown",
   "id": "28e48170",
   "metadata": {
    "papermill": {
     "duration": 0.006255,
     "end_time": "2023-05-06T07:29:13.170123",
     "exception": false,
     "start_time": "2023-05-06T07:29:13.163868",
     "status": "completed"
    },
    "tags": []
   },
   "source": [
    "# Get our environment set up\n",
    "\n",
    "The first thing we'll need to do is load in the libraries we'll be using."
   ]
  },
  {
   "cell_type": "code",
   "execution_count": 2,
   "id": "e8592de1",
   "metadata": {
    "execution": {
     "iopub.execute_input": "2023-05-06T07:29:13.183385Z",
     "iopub.status.busy": "2023-05-06T07:29:13.182983Z",
     "iopub.status.idle": "2023-05-06T07:29:13.188304Z",
     "shell.execute_reply": "2023-05-06T07:29:13.187466Z"
    },
    "papermill": {
     "duration": 0.014507,
     "end_time": "2023-05-06T07:29:13.190276",
     "exception": false,
     "start_time": "2023-05-06T07:29:13.175769",
     "status": "completed"
    },
    "tags": []
   },
   "outputs": [],
   "source": [
    "# modules we'll use\n",
    "import pandas as pd\n",
    "import numpy as np\n",
    "\n",
    "# helpful character encoding module\n",
    "import charset_normalizer\n",
    "\n",
    "# set seed for reproducibility\n",
    "np.random.seed(0)"
   ]
  },
  {
   "cell_type": "markdown",
   "id": "2e6fe287",
   "metadata": {
    "papermill": {
     "duration": 0.005569,
     "end_time": "2023-05-06T07:29:13.201482",
     "exception": false,
     "start_time": "2023-05-06T07:29:13.195913",
     "status": "completed"
    },
    "tags": []
   },
   "source": [
    "# 1) What are encodings?\n",
    "\n",
    "You're working with a dataset composed of bytes.  Run the code cell below to print a sample entry."
   ]
  },
  {
   "cell_type": "code",
   "execution_count": 3,
   "id": "7ec59625",
   "metadata": {
    "execution": {
     "iopub.execute_input": "2023-05-06T07:29:13.214388Z",
     "iopub.status.busy": "2023-05-06T07:29:13.214008Z",
     "iopub.status.idle": "2023-05-06T07:29:13.219379Z",
     "shell.execute_reply": "2023-05-06T07:29:13.218143Z"
    },
    "papermill": {
     "duration": 0.014371,
     "end_time": "2023-05-06T07:29:13.221572",
     "exception": false,
     "start_time": "2023-05-06T07:29:13.207201",
     "status": "completed"
    },
    "tags": []
   },
   "outputs": [
    {
     "name": "stdout",
     "output_type": "stream",
     "text": [
      "b'\\xa7A\\xa6n'\n",
      "data type: <class 'bytes'>\n"
     ]
    }
   ],
   "source": [
    "sample_entry = b'\\xa7A\\xa6n'\n",
    "print(sample_entry)\n",
    "print('data type:', type(sample_entry))"
   ]
  },
  {
   "cell_type": "markdown",
   "id": "c94c79c0",
   "metadata": {
    "papermill": {
     "duration": 0.005495,
     "end_time": "2023-05-06T07:29:13.232758",
     "exception": false,
     "start_time": "2023-05-06T07:29:13.227263",
     "status": "completed"
    },
    "tags": []
   },
   "source": [
    "You notice that it doesn't use the standard UTF-8 encoding. \n",
    "\n",
    "Use the next code cell to create a variable `new_entry` that changes the encoding from `\"big5-tw\"` to `\"utf-8\"`.  `new_entry` should have the bytes datatype."
   ]
  },
  {
   "cell_type": "code",
   "execution_count": 4,
   "id": "b0809326",
   "metadata": {
    "execution": {
     "iopub.execute_input": "2023-05-06T07:29:13.245736Z",
     "iopub.status.busy": "2023-05-06T07:29:13.245375Z",
     "iopub.status.idle": "2023-05-06T07:29:13.254684Z",
     "shell.execute_reply": "2023-05-06T07:29:13.253924Z"
    },
    "papermill": {
     "duration": 0.018132,
     "end_time": "2023-05-06T07:29:13.256661",
     "exception": false,
     "start_time": "2023-05-06T07:29:13.238529",
     "status": "completed"
    },
    "tags": []
   },
   "outputs": [
    {
     "data": {
      "application/javascript": [
       "parent.postMessage({\"jupyterEvent\": \"custom.exercise_interaction\", \"data\": {\"outcomeType\": 1, \"valueTowardsCompletion\": 0.3333333333333333, \"interactionType\": 1, \"questionType\": 1, \"questionId\": \"1_EncodingsIntro\", \"learnToolsVersion\": \"0.3.4\", \"failureMessage\": \"\", \"exceptionClass\": \"\", \"trace\": \"\"}}, \"*\")"
      ],
      "text/plain": [
       "<IPython.core.display.Javascript object>"
      ]
     },
     "metadata": {},
     "output_type": "display_data"
    },
    {
     "data": {
      "text/markdown": [
       "<span style=\"color:#33cc33\">Correct</span>"
      ],
      "text/plain": [
       "Correct"
      ]
     },
     "metadata": {},
     "output_type": "display_data"
    }
   ],
   "source": [
    "before=sample_entry.decode(\"big5-tw\")\n",
    "new_entry = before.encode(\"utf-8\", errors=\"replace\")\n",
    "\n",
    "# Check your answer\n",
    "q1.check()"
   ]
  },
  {
   "cell_type": "code",
   "execution_count": 5,
   "id": "ccbf50f2",
   "metadata": {
    "execution": {
     "iopub.execute_input": "2023-05-06T07:29:13.269827Z",
     "iopub.status.busy": "2023-05-06T07:29:13.269466Z",
     "iopub.status.idle": "2023-05-06T07:29:13.274568Z",
     "shell.execute_reply": "2023-05-06T07:29:13.273412Z"
    },
    "papermill": {
     "duration": 0.014306,
     "end_time": "2023-05-06T07:29:13.276833",
     "exception": false,
     "start_time": "2023-05-06T07:29:13.262527",
     "status": "completed"
    },
    "tags": []
   },
   "outputs": [],
   "source": [
    "# Lines below will give you a hint or solution code\n",
    "#q1.hint()\n",
    "#q1.solution()"
   ]
  },
  {
   "cell_type": "markdown",
   "id": "736db6a1",
   "metadata": {
    "papermill": {
     "duration": 0.005529,
     "end_time": "2023-05-06T07:29:13.288267",
     "exception": false,
     "start_time": "2023-05-06T07:29:13.282738",
     "status": "completed"
    },
    "tags": []
   },
   "source": [
    "# 2) Reading in files with encoding problems\n",
    "\n",
    "Use the code cell below to read in this file at path `\"../input/fatal-police-shootings-in-the-us/PoliceKillingsUS.csv\"`.  \n",
    "\n",
    "Figure out what the correct encoding should be and read in the file to a DataFrame `police_killings`."
   ]
  },
  {
   "cell_type": "code",
   "execution_count": 6,
   "id": "b63d4e8c",
   "metadata": {
    "execution": {
     "iopub.execute_input": "2023-05-06T07:29:13.302624Z",
     "iopub.status.busy": "2023-05-06T07:29:13.301453Z",
     "iopub.status.idle": "2023-05-06T07:29:13.340948Z",
     "shell.execute_reply": "2023-05-06T07:29:13.339587Z"
    },
    "papermill": {
     "duration": 0.04922,
     "end_time": "2023-05-06T07:29:13.343534",
     "exception": false,
     "start_time": "2023-05-06T07:29:13.294314",
     "status": "completed"
    },
    "tags": []
   },
   "outputs": [
    {
     "name": "stdout",
     "output_type": "stream",
     "text": [
      "{'encoding': 'ascii', 'language': 'English', 'confidence': 1.0}\n"
     ]
    }
   ],
   "source": [
    "\n",
    "with open(\"../input/fatal-police-shootings-in-the-us/PoliceKillingsUS.csv\", 'rb') as rawdata:\n",
    "    result = charset_normalizer.detect(rawdata.read(10000))\n",
    "\n",
    "print(result)"
   ]
  },
  {
   "cell_type": "code",
   "execution_count": 7,
   "id": "6d097338",
   "metadata": {
    "execution": {
     "iopub.execute_input": "2023-05-06T07:29:13.356979Z",
     "iopub.status.busy": "2023-05-06T07:29:13.356611Z",
     "iopub.status.idle": "2023-05-06T07:29:13.385603Z",
     "shell.execute_reply": "2023-05-06T07:29:13.384446Z"
    },
    "papermill": {
     "duration": 0.038285,
     "end_time": "2023-05-06T07:29:13.387834",
     "exception": false,
     "start_time": "2023-05-06T07:29:13.349549",
     "status": "completed"
    },
    "tags": []
   },
   "outputs": [
    {
     "data": {
      "application/javascript": [
       "parent.postMessage({\"jupyterEvent\": \"custom.exercise_interaction\", \"data\": {\"outcomeType\": 1, \"valueTowardsCompletion\": 0.3333333333333333, \"interactionType\": 1, \"questionType\": 1, \"questionId\": \"2_ReadIn\", \"learnToolsVersion\": \"0.3.4\", \"failureMessage\": \"\", \"exceptionClass\": \"\", \"trace\": \"\"}}, \"*\")"
      ],
      "text/plain": [
       "<IPython.core.display.Javascript object>"
      ]
     },
     "metadata": {},
     "output_type": "display_data"
    },
    {
     "data": {
      "text/markdown": [
       "<span style=\"color:#33cc33\">Correct</span>"
      ],
      "text/plain": [
       "Correct"
      ]
     },
     "metadata": {},
     "output_type": "display_data"
    }
   ],
   "source": [
    "# TODO: Load in the DataFrame correctly.\n",
    "police_killings = pd.read_csv(\"../input/fatal-police-shootings-in-the-us/PoliceKillingsUS.csv\",encoding=\"windows-1252\")\n",
    "\n",
    "# Check your answer\n",
    "q2.check()"
   ]
  },
  {
   "cell_type": "markdown",
   "id": "1ac88728",
   "metadata": {
    "papermill": {
     "duration": 0.005905,
     "end_time": "2023-05-06T07:29:13.400103",
     "exception": false,
     "start_time": "2023-05-06T07:29:13.394198",
     "status": "completed"
    },
    "tags": []
   },
   "source": [
    "Feel free to use any additional code cells for supplemental work.  To get credit for finishing this question, you'll need to run `q2.check()` and get a result of **Correct**."
   ]
  },
  {
   "cell_type": "code",
   "execution_count": 8,
   "id": "6be284ce",
   "metadata": {
    "execution": {
     "iopub.execute_input": "2023-05-06T07:29:13.413935Z",
     "iopub.status.busy": "2023-05-06T07:29:13.413555Z",
     "iopub.status.idle": "2023-05-06T07:29:13.418225Z",
     "shell.execute_reply": "2023-05-06T07:29:13.417026Z"
    },
    "papermill": {
     "duration": 0.014499,
     "end_time": "2023-05-06T07:29:13.420670",
     "exception": false,
     "start_time": "2023-05-06T07:29:13.406171",
     "status": "completed"
    },
    "tags": []
   },
   "outputs": [],
   "source": [
    "# (Optional) Use this code cell for any additional work."
   ]
  },
  {
   "cell_type": "code",
   "execution_count": 9,
   "id": "93f9d63c",
   "metadata": {
    "execution": {
     "iopub.execute_input": "2023-05-06T07:29:13.434684Z",
     "iopub.status.busy": "2023-05-06T07:29:13.434260Z",
     "iopub.status.idle": "2023-05-06T07:29:13.438646Z",
     "shell.execute_reply": "2023-05-06T07:29:13.437540Z"
    },
    "papermill": {
     "duration": 0.01363,
     "end_time": "2023-05-06T07:29:13.440562",
     "exception": false,
     "start_time": "2023-05-06T07:29:13.426932",
     "status": "completed"
    },
    "tags": []
   },
   "outputs": [],
   "source": [
    "# Lines below will give you a hint or solution code\n",
    "#q2.hint()\n",
    "#q2.solution()"
   ]
  },
  {
   "cell_type": "markdown",
   "id": "cae54935",
   "metadata": {
    "papermill": {
     "duration": 0.00576,
     "end_time": "2023-05-06T07:29:13.452457",
     "exception": false,
     "start_time": "2023-05-06T07:29:13.446697",
     "status": "completed"
    },
    "tags": []
   },
   "source": [
    "# 3) Saving your files with UTF-8 encoding\n",
    "\n",
    "Save a version of the police killings dataset to CSV with UTF-8 encoding.  Your answer will be marked correct after saving this file.  \n",
    "\n",
    "Note: When using the `to_csv()` method, supply only the name of the file (e.g., `\"my_file.csv\"`).  This saves the file at the filepath `\"/kaggle/working/my_file.csv\"`."
   ]
  },
  {
   "cell_type": "code",
   "execution_count": 10,
   "id": "2cb03e21",
   "metadata": {
    "execution": {
     "iopub.execute_input": "2023-05-06T07:29:13.466368Z",
     "iopub.status.busy": "2023-05-06T07:29:13.465629Z",
     "iopub.status.idle": "2023-05-06T07:29:13.509383Z",
     "shell.execute_reply": "2023-05-06T07:29:13.508603Z"
    },
    "papermill": {
     "duration": 0.052865,
     "end_time": "2023-05-06T07:29:13.511366",
     "exception": false,
     "start_time": "2023-05-06T07:29:13.458501",
     "status": "completed"
    },
    "tags": []
   },
   "outputs": [
    {
     "data": {
      "application/javascript": [
       "parent.postMessage({\"jupyterEvent\": \"custom.exercise_interaction\", \"data\": {\"outcomeType\": 1, \"valueTowardsCompletion\": 0.3333333333333333, \"interactionType\": 1, \"questionType\": 2, \"questionId\": \"3_SaveCSV\", \"learnToolsVersion\": \"0.3.4\", \"failureMessage\": \"\", \"exceptionClass\": \"\", \"trace\": \"\"}}, \"*\")"
      ],
      "text/plain": [
       "<IPython.core.display.Javascript object>"
      ]
     },
     "metadata": {},
     "output_type": "display_data"
    },
    {
     "data": {
      "text/markdown": [
       "<span style=\"color:#33cc33\">Correct</span>"
      ],
      "text/plain": [
       "Correct"
      ]
     },
     "metadata": {},
     "output_type": "display_data"
    }
   ],
   "source": [
    "# TODO: Save the police killings dataset to CSV\n",
    "police_killings.to_csv(\"police_killingUS.csv\")\n",
    "\n",
    "# Check your answer\n",
    "q3.check()"
   ]
  },
  {
   "cell_type": "code",
   "execution_count": 11,
   "id": "c35ba89e",
   "metadata": {
    "execution": {
     "iopub.execute_input": "2023-05-06T07:29:13.525871Z",
     "iopub.status.busy": "2023-05-06T07:29:13.525225Z",
     "iopub.status.idle": "2023-05-06T07:29:13.529868Z",
     "shell.execute_reply": "2023-05-06T07:29:13.528901Z"
    },
    "papermill": {
     "duration": 0.01416,
     "end_time": "2023-05-06T07:29:13.531933",
     "exception": false,
     "start_time": "2023-05-06T07:29:13.517773",
     "status": "completed"
    },
    "tags": []
   },
   "outputs": [],
   "source": [
    "# Lines below will give you a hint or solution code\n",
    "#q3.hint()\n",
    "#q3.solution()"
   ]
  },
  {
   "cell_type": "markdown",
   "id": "c63b3e96",
   "metadata": {
    "papermill": {
     "duration": 0.005933,
     "end_time": "2023-05-06T07:29:13.544815",
     "exception": false,
     "start_time": "2023-05-06T07:29:13.538882",
     "status": "completed"
    },
    "tags": []
   },
   "source": [
    "# (Optional) More practice\n",
    "\n",
    "Check out [this dataset of files in different character encodings](https://www.kaggle.com/rtatman/character-encoding-examples). Can you read in all the files with their original encodings and them save them out as UTF-8 files?\n",
    "\n",
    "If you have a file that's in UTF-8 but has just a couple of weird-looking characters in it, you can try out the [ftfy module](https://ftfy.readthedocs.io/en/latest/#) and see if it helps. \n",
    "\n",
    "# Keep going\n",
    "\n",
    "In the final lesson, learn how to [**clean up inconsistent text entries**](https://www.kaggle.com/alexisbcook/inconsistent-data-entry) in your dataset."
   ]
  },
  {
   "cell_type": "markdown",
   "id": "4a6ad9f4",
   "metadata": {
    "papermill": {
     "duration": 0.005861,
     "end_time": "2023-05-06T07:29:13.557168",
     "exception": false,
     "start_time": "2023-05-06T07:29:13.551307",
     "status": "completed"
    },
    "tags": []
   },
   "source": [
    "---\n",
    "\n",
    "\n",
    "\n",
    "\n",
    "*Have questions or comments? Visit the [course discussion forum](https://www.kaggle.com/learn/data-cleaning/discussion) to chat with other learners.*"
   ]
  },
  {
   "cell_type": "code",
   "execution_count": null,
   "id": "5e1a328f",
   "metadata": {
    "papermill": {
     "duration": 0.005854,
     "end_time": "2023-05-06T07:29:13.569352",
     "exception": false,
     "start_time": "2023-05-06T07:29:13.563498",
     "status": "completed"
    },
    "tags": []
   },
   "outputs": [],
   "source": []
  },
  {
   "cell_type": "code",
   "execution_count": null,
   "id": "979b9b92",
   "metadata": {
    "papermill": {
     "duration": 0.006203,
     "end_time": "2023-05-06T07:29:13.581892",
     "exception": false,
     "start_time": "2023-05-06T07:29:13.575689",
     "status": "completed"
    },
    "tags": []
   },
   "outputs": [],
   "source": []
  },
  {
   "cell_type": "code",
   "execution_count": null,
   "id": "a7020f21",
   "metadata": {
    "papermill": {
     "duration": 0.006013,
     "end_time": "2023-05-06T07:29:13.594334",
     "exception": false,
     "start_time": "2023-05-06T07:29:13.588321",
     "status": "completed"
    },
    "tags": []
   },
   "outputs": [],
   "source": []
  },
  {
   "cell_type": "code",
   "execution_count": null,
   "id": "074ced8a",
   "metadata": {
    "papermill": {
     "duration": 0.005966,
     "end_time": "2023-05-06T07:29:13.606522",
     "exception": false,
     "start_time": "2023-05-06T07:29:13.600556",
     "status": "completed"
    },
    "tags": []
   },
   "outputs": [],
   "source": []
  },
  {
   "cell_type": "code",
   "execution_count": null,
   "id": "a3d534b9",
   "metadata": {
    "papermill": {
     "duration": 0.005979,
     "end_time": "2023-05-06T07:29:13.618813",
     "exception": false,
     "start_time": "2023-05-06T07:29:13.612834",
     "status": "completed"
    },
    "tags": []
   },
   "outputs": [],
   "source": []
  }
 ],
 "metadata": {
  "kernelspec": {
   "display_name": "Python 3",
   "language": "python",
   "name": "python3"
  },
  "language_info": {
   "codemirror_mode": {
    "name": "ipython",
    "version": 3
   },
   "file_extension": ".py",
   "mimetype": "text/x-python",
   "name": "python",
   "nbconvert_exporter": "python",
   "pygments_lexer": "ipython3",
   "version": "3.10.10"
  },
  "papermill": {
   "default_parameters": {},
   "duration": 13.031858,
   "end_time": "2023-05-06T07:29:14.548700",
   "environment_variables": {},
   "exception": null,
   "input_path": "__notebook__.ipynb",
   "output_path": "__notebook__.ipynb",
   "parameters": {},
   "start_time": "2023-05-06T07:29:01.516842",
   "version": "2.4.0"
  }
 },
 "nbformat": 4,
 "nbformat_minor": 5
}
